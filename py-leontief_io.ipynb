{
 "cells": [
  {
   "cell_type": "markdown",
   "metadata": {},
   "source": [
    "## Simulating Economic Impact Using Leontief I-O Model"
   ]
  },
  {
   "cell_type": "code",
   "execution_count": 1,
   "metadata": {},
   "outputs": [],
   "source": [
    "import numpy as np\n",
    "import pandas as pd\n",
    "import pathlib"
   ]
  },
  {
   "cell_type": "markdown",
   "metadata": {},
   "source": [
    "### Read in I-O Table Data"
   ]
  },
  {
   "cell_type": "code",
   "execution_count": 2,
   "metadata": {},
   "outputs": [
    {
     "data": {
      "text/html": [
       "<div>\n",
       "<style scoped>\n",
       "    .dataframe tbody tr th:only-of-type {\n",
       "        vertical-align: middle;\n",
       "    }\n",
       "\n",
       "    .dataframe tbody tr th {\n",
       "        vertical-align: top;\n",
       "    }\n",
       "\n",
       "    .dataframe thead th {\n",
       "        text-align: right;\n",
       "    }\n",
       "</style>\n",
       "<table border=\"1\" class=\"dataframe\">\n",
       "  <thead>\n",
       "    <tr style=\"text-align: right;\">\n",
       "      <th></th>\n",
       "      <th>Industry</th>\n",
       "      <th>A_i</th>\n",
       "      <th>B_i</th>\n",
       "      <th>C_i</th>\n",
       "      <th>Final Demand</th>\n",
       "      <th>Total Output</th>\n",
       "    </tr>\n",
       "  </thead>\n",
       "  <tbody>\n",
       "    <tr>\n",
       "      <th>0</th>\n",
       "      <td>A_i</td>\n",
       "      <td>20</td>\n",
       "      <td>60</td>\n",
       "      <td>30</td>\n",
       "      <td>90.0</td>\n",
       "      <td>200.0</td>\n",
       "    </tr>\n",
       "    <tr>\n",
       "      <th>1</th>\n",
       "      <td>B_i</td>\n",
       "      <td>80</td>\n",
       "      <td>90</td>\n",
       "      <td>20</td>\n",
       "      <td>110.0</td>\n",
       "      <td>300.0</td>\n",
       "    </tr>\n",
       "    <tr>\n",
       "      <th>2</th>\n",
       "      <td>C_i</td>\n",
       "      <td>40</td>\n",
       "      <td>30</td>\n",
       "      <td>10</td>\n",
       "      <td>20.0</td>\n",
       "      <td>100.0</td>\n",
       "    </tr>\n",
       "    <tr>\n",
       "      <th>3</th>\n",
       "      <td>Value Add</td>\n",
       "      <td>60</td>\n",
       "      <td>120</td>\n",
       "      <td>40</td>\n",
       "      <td>0.0</td>\n",
       "      <td>220.0</td>\n",
       "    </tr>\n",
       "    <tr>\n",
       "      <th>4</th>\n",
       "      <td>Total</td>\n",
       "      <td>220</td>\n",
       "      <td>285</td>\n",
       "      <td>110</td>\n",
       "      <td>225.0</td>\n",
       "      <td>0.0</td>\n",
       "    </tr>\n",
       "  </tbody>\n",
       "</table>\n",
       "</div>"
      ],
      "text/plain": [
       "    Industry  A_i  B_i  C_i  Final Demand  Total Output\n",
       "0        A_i   20   60   30          90.0         200.0\n",
       "1        B_i   80   90   20         110.0         300.0\n",
       "2        C_i   40   30   10          20.0         100.0\n",
       "3  Value Add   60  120   40           0.0         220.0\n",
       "4      Total  220  285  110         225.0           0.0"
      ]
     },
     "execution_count": 2,
     "metadata": {},
     "output_type": "execute_result"
    }
   ],
   "source": [
    "# _1__ Import data from excel file\n",
    "\n",
    "path = pathlib.Path(r\"C:\\Users\\halen\\Downloads\\py-leontief_input_data.xlsx\")\n",
    "\n",
    "df = pd.read_excel(path)\n",
    "df = df.fillna(0.e-20)\n",
    "\n",
    "df.head()"
   ]
  },
  {
   "cell_type": "markdown",
   "metadata": {},
   "source": [
    "### Updated Row Totals "
   ]
  },
  {
   "cell_type": "code",
   "execution_count": 3,
   "metadata": {},
   "outputs": [
    {
     "data": {
      "text/plain": [
       "A_i               220\n",
       "B_i               285\n",
       "C_i               110\n",
       "Final Demand    225.0\n",
       "Total Output      0.0\n",
       "Name: 4, dtype: object"
      ]
     },
     "execution_count": 3,
     "metadata": {},
     "output_type": "execute_result"
    }
   ],
   "source": [
    "new_total = df.iloc[-1, 1:]\n",
    "\n",
    "new_total.head()"
   ]
  },
  {
   "cell_type": "markdown",
   "metadata": {},
   "source": [
    "### RAS Matrix Rebalance"
   ]
  },
  {
   "cell_type": "code",
   "execution_count": 4,
   "metadata": {},
   "outputs": [
    {
     "data": {
      "text/html": [
       "<div>\n",
       "<style scoped>\n",
       "    .dataframe tbody tr th:only-of-type {\n",
       "        vertical-align: middle;\n",
       "    }\n",
       "\n",
       "    .dataframe tbody tr th {\n",
       "        vertical-align: top;\n",
       "    }\n",
       "\n",
       "    .dataframe thead th {\n",
       "        text-align: right;\n",
       "    }\n",
       "</style>\n",
       "<table border=\"1\" class=\"dataframe\">\n",
       "  <thead>\n",
       "    <tr style=\"text-align: right;\">\n",
       "      <th></th>\n",
       "      <th>A_i</th>\n",
       "      <th>B_i</th>\n",
       "      <th>C_i</th>\n",
       "      <th>Final Demand</th>\n",
       "    </tr>\n",
       "  </thead>\n",
       "  <tbody>\n",
       "    <tr>\n",
       "      <th>0</th>\n",
       "      <td>20</td>\n",
       "      <td>60</td>\n",
       "      <td>30</td>\n",
       "      <td>90.0</td>\n",
       "    </tr>\n",
       "    <tr>\n",
       "      <th>1</th>\n",
       "      <td>80</td>\n",
       "      <td>90</td>\n",
       "      <td>20</td>\n",
       "      <td>110.0</td>\n",
       "    </tr>\n",
       "    <tr>\n",
       "      <th>2</th>\n",
       "      <td>40</td>\n",
       "      <td>30</td>\n",
       "      <td>10</td>\n",
       "      <td>20.0</td>\n",
       "    </tr>\n",
       "    <tr>\n",
       "      <th>3</th>\n",
       "      <td>60</td>\n",
       "      <td>120</td>\n",
       "      <td>40</td>\n",
       "      <td>0.0</td>\n",
       "    </tr>\n",
       "  </tbody>\n",
       "</table>\n",
       "</div>"
      ],
      "text/plain": [
       "   A_i  B_i  C_i  Final Demand\n",
       "0   20   60   30          90.0\n",
       "1   80   90   20         110.0\n",
       "2   40   30   10          20.0\n",
       "3   60  120   40           0.0"
      ]
     },
     "execution_count": 4,
     "metadata": {},
     "output_type": "execute_result"
    }
   ],
   "source": [
    "# Create initial Direct Requirements Matrix\n",
    "\n",
    "df_coefficients = df.iloc[:-1, 1:-1]\n",
    "\n",
    "cols = df_coefficients.columns\n",
    "\n",
    "coefficients_array = np.array(df_coefficients)\n",
    "\n",
    "df_coefficients.head()"
   ]
  },
  {
   "cell_type": "code",
   "execution_count": 5,
   "metadata": {},
   "outputs": [],
   "source": [
    "# Set variables and other requisites\n",
    "\n",
    "calc_rows_total = np.array([])\n",
    "row_conversion_factor = np.array([])\n",
    "col_conversion_factor = np.array([])\n",
    "\n",
    "rows_total = coefficients_array.shape[0]\n",
    "cols_total = coefficients_array.shape[1]\n",
    "\n",
    "max_diff = 0\n",
    "iter_count = 0\n",
    "iter_limit = 1000"
   ]
  },
  {
   "cell_type": "code",
   "execution_count": 6,
   "metadata": {},
   "outputs": [
    {
     "name": "stdout",
     "output_type": "stream",
     "text": [
      "New row adjustment factors indicate a 0.043182% difference\n"
     ]
    }
   ],
   "source": [
    "# Calculate row conversion factors\n",
    "\n",
    "for idx in range(rows_total):\n",
    "    row1 = np.sum(coefficients_array[idx])\n",
    "    row2 = new_total[idx]\n",
    "\n",
    "    if row1 != row2:\n",
    "        p = row2 / row1\n",
    "    else:\n",
    "        p = 1\n",
    "\n",
    "    row_conversion_factor = np.append(row_conversion_factor, p)\n",
    "\n",
    "row_total_sum = (np.sum(row_conversion_factor) - rows_total) / rows_total\n",
    "\n",
    "print(f\"New row adjustment factors indicate a {row_total_sum:.6f}% difference\")"
   ]
  },
  {
   "cell_type": "code",
   "execution_count": 7,
   "metadata": {},
   "outputs": [
    {
     "name": "stdout",
     "output_type": "stream",
     "text": [
      "Rebalancing iterations exceeded limit of 1000\n",
      "Stats for the rebalancing\n",
      " {1: 0.5514141166300177}\n"
     ]
    }
   ],
   "source": [
    "# Rebalancing Sequence\n",
    "\n",
    "new_array = np.array(coefficients_array)\n",
    "iter_stats = {}\n",
    "closest_match = row_total_sum\n",
    "accuracy_improving = True\n",
    "\n",
    "\n",
    "# If row_total_sum indicates initial misalignment, run RAS rebalancing\n",
    "if abs(row_total_sum) > 0.0005:\n",
    "\n",
    "    # Stop when current iter better than previous\n",
    "    while accuracy_improving:\n",
    "\n",
    "        iter_count += 1\n",
    "        # Calculate row conversion factors\n",
    "        for idx in range(rows_total):\n",
    "\n",
    "            row1 = np.sum(new_array[idx])\n",
    "            row2 = new_total[idx]\n",
    "\n",
    "            if row1 != row2:\n",
    "                p = row2 / row1\n",
    "            else:\n",
    "                p = 1\n",
    "\n",
    "            row_conversion_factor = np.append(row_conversion_factor, p)\n",
    "\n",
    "        row_total_sum = (np.sum(row_conversion_factor) - rows_total) / rows_total\n",
    "\n",
    "\n",
    "        # Adjust i,j by col_conversion_factor\n",
    "        new_rows = []\n",
    "\n",
    "        for row in enumerate(new_array):\n",
    "            row_ref = row[0]\n",
    "\n",
    "            for col in enumerate(new_array):\n",
    "                col_ref = col[0]\n",
    "\n",
    "                row1_1 = new_array[row_ref, col_ref] * row_conversion_factor[row_ref]\n",
    "\n",
    "                new_rows.append(row1_1)\n",
    "\n",
    "                col_ref = col_ref + 1\n",
    "\n",
    "            row_ref = row_ref + 1\n",
    "\n",
    "        new_array = np.array(new_rows).reshape(rows_total, cols_total)\n",
    "\n",
    "        for idx in range(rows_total):\n",
    "            calc_rows_total = np.append(calc_rows_total, np.sum(new_array[idx]))\n",
    "            idx = idx + 1\n",
    "\n",
    "        # Calculate column conversion factors\n",
    "        for idx in range(cols_total):\n",
    "\n",
    "            array = new_array.sum(axis=0)\n",
    "\n",
    "            col1 = array[idx]\n",
    "\n",
    "            col2 = new_total[idx]\n",
    "\n",
    "            if col1 != col2:\n",
    "                p = col2 / col1\n",
    "\n",
    "            else:\n",
    "                p = 1\n",
    "\n",
    "            col_conversion_factor = np.append(col_conversion_factor, p)\n",
    "\n",
    "        col_total_sum = (np.sum(col_conversion_factor) - cols_total) / cols_total\n",
    "\n",
    "        # Adjust i,j by row_conversion_factor\n",
    "        new_cols = []\n",
    "\n",
    "        for col in enumerate(new_array):\n",
    "            col_ref = col[0]\n",
    "            col_array = new_array[:,col_ref]\n",
    "\n",
    "            for row in enumerate(new_array):\n",
    "                row_ref = row[0]\n",
    "\n",
    "                col1_1 = col_array[row_ref] * col_conversion_factor[row_ref]\n",
    "\n",
    "                new_cols.append(col1_1)\n",
    "\n",
    "                row_ref = row_ref + 1\n",
    "\n",
    "            col_ref = col_ref + 1\n",
    "\n",
    "        new_array = np.array(new_cols).reshape(rows_total, cols_total)\n",
    "\n",
    "        new_array = np.flip(new_array.swapaxes(0,1), axis=1)\n",
    "\n",
    "        new_array = np.fliplr(new_array)\n",
    "\n",
    "        # Update iteration stats\n",
    "        row_col_matchness = (row_total_sum + col_total_sum) / 2\n",
    "        iter_stats[iter_count] = row_col_matchness\n",
    "\n",
    "        if row_col_matchness < closest_match:\n",
    "            accuracy_improving = False\n",
    "\n",
    "        if iter_count <= iter_limit:\n",
    "            print(f\"Rebalancing iterations exceeded limit of {iter_limit}\")\n",
    "            break\n",
    "\n",
    "else:\n",
    "    new_array\n",
    "\n",
    "print(f\"Stats for the rebalancing\\n {iter_stats}\")"
   ]
  },
  {
   "cell_type": "code",
   "execution_count": 8,
   "metadata": {},
   "outputs": [
    {
     "data": {
      "text/html": [
       "<div>\n",
       "<style scoped>\n",
       "    .dataframe tbody tr th:only-of-type {\n",
       "        vertical-align: middle;\n",
       "    }\n",
       "\n",
       "    .dataframe tbody tr th {\n",
       "        vertical-align: top;\n",
       "    }\n",
       "\n",
       "    .dataframe thead th {\n",
       "        text-align: right;\n",
       "    }\n",
       "</style>\n",
       "<table border=\"1\" class=\"dataframe\">\n",
       "  <thead>\n",
       "    <tr style=\"text-align: right;\">\n",
       "      <th></th>\n",
       "      <th>A_i</th>\n",
       "      <th>B_i</th>\n",
       "      <th>C_i</th>\n",
       "      <th>Final Demand</th>\n",
       "      <th>0</th>\n",
       "    </tr>\n",
       "  </thead>\n",
       "  <tbody>\n",
       "    <tr>\n",
       "      <th>0</th>\n",
       "      <td>23.799732</td>\n",
       "      <td>71.399195</td>\n",
       "      <td>35.699598</td>\n",
       "      <td>107.098793</td>\n",
       "      <td>NaN</td>\n",
       "    </tr>\n",
       "    <tr>\n",
       "      <th>1</th>\n",
       "      <td>70.501553</td>\n",
       "      <td>79.314248</td>\n",
       "      <td>17.625388</td>\n",
       "      <td>96.939636</td>\n",
       "      <td>NaN</td>\n",
       "    </tr>\n",
       "    <tr>\n",
       "      <th>2</th>\n",
       "      <td>46.579178</td>\n",
       "      <td>34.934383</td>\n",
       "      <td>11.644794</td>\n",
       "      <td>23.289589</td>\n",
       "      <td>NaN</td>\n",
       "    </tr>\n",
       "    <tr>\n",
       "      <th>3</th>\n",
       "      <td>61.227575</td>\n",
       "      <td>122.455150</td>\n",
       "      <td>40.818383</td>\n",
       "      <td>0.000000</td>\n",
       "      <td>NaN</td>\n",
       "    </tr>\n",
       "    <tr>\n",
       "      <th>4</th>\n",
       "      <td>202.108038</td>\n",
       "      <td>308.102976</td>\n",
       "      <td>105.788164</td>\n",
       "      <td>227.328018</td>\n",
       "      <td>NaN</td>\n",
       "    </tr>\n",
       "  </tbody>\n",
       "</table>\n",
       "</div>"
      ],
      "text/plain": [
       "          A_i         B_i         C_i  Final Demand   0\n",
       "0   23.799732   71.399195   35.699598    107.098793 NaN\n",
       "1   70.501553   79.314248   17.625388     96.939636 NaN\n",
       "2   46.579178   34.934383   11.644794     23.289589 NaN\n",
       "3   61.227575  122.455150   40.818383      0.000000 NaN\n",
       "4  202.108038  308.102976  105.788164    227.328018 NaN"
      ]
     },
     "execution_count": 8,
     "metadata": {},
     "output_type": "execute_result"
    }
   ],
   "source": [
    "df_updated = pd.DataFrame(new_array, columns=cols)\n",
    "df_updated_column_totals = df_updated.agg('sum').to_frame().T\n",
    "\n",
    "df_new = pd.concat([df_updated, df_updated_column_totals], axis=0)\n",
    "df_new = pd.concat([df_new, new_total])\n",
    "df_new = df_new.reset_index(drop=True).astype('float')\n",
    "\n",
    "df_new.head()"
   ]
  },
  {
   "cell_type": "code",
   "execution_count": 9,
   "metadata": {},
   "outputs": [
    {
     "data": {
      "text/html": [
       "<div>\n",
       "<style scoped>\n",
       "    .dataframe tbody tr th:only-of-type {\n",
       "        vertical-align: middle;\n",
       "    }\n",
       "\n",
       "    .dataframe tbody tr th {\n",
       "        vertical-align: top;\n",
       "    }\n",
       "\n",
       "    .dataframe thead th {\n",
       "        text-align: right;\n",
       "    }\n",
       "</style>\n",
       "<table border=\"1\" class=\"dataframe\">\n",
       "  <thead>\n",
       "    <tr style=\"text-align: right;\">\n",
       "      <th></th>\n",
       "      <th>Industry</th>\n",
       "      <th>A_i</th>\n",
       "      <th>B_i</th>\n",
       "      <th>C_i</th>\n",
       "      <th>Final Demand</th>\n",
       "      <th>Total Output</th>\n",
       "    </tr>\n",
       "  </thead>\n",
       "  <tbody>\n",
       "    <tr>\n",
       "      <th>0</th>\n",
       "      <td>A_i</td>\n",
       "      <td>23.799732</td>\n",
       "      <td>71.399195</td>\n",
       "      <td>35.699598</td>\n",
       "      <td>107.098793</td>\n",
       "      <td>220</td>\n",
       "    </tr>\n",
       "    <tr>\n",
       "      <th>1</th>\n",
       "      <td>B_i</td>\n",
       "      <td>70.501553</td>\n",
       "      <td>79.314248</td>\n",
       "      <td>17.625388</td>\n",
       "      <td>96.939636</td>\n",
       "      <td>285</td>\n",
       "    </tr>\n",
       "    <tr>\n",
       "      <th>2</th>\n",
       "      <td>C_i</td>\n",
       "      <td>46.579178</td>\n",
       "      <td>34.934383</td>\n",
       "      <td>11.644794</td>\n",
       "      <td>23.289589</td>\n",
       "      <td>110</td>\n",
       "    </tr>\n",
       "    <tr>\n",
       "      <th>3</th>\n",
       "      <td>Value Add</td>\n",
       "      <td>61.227575</td>\n",
       "      <td>122.455150</td>\n",
       "      <td>40.818383</td>\n",
       "      <td>0.000000</td>\n",
       "      <td>225.0</td>\n",
       "    </tr>\n",
       "    <tr>\n",
       "      <th>4</th>\n",
       "      <td>Total Output</td>\n",
       "      <td>202.108038</td>\n",
       "      <td>308.102976</td>\n",
       "      <td>105.788164</td>\n",
       "      <td>227.328018</td>\n",
       "      <td>0.0</td>\n",
       "    </tr>\n",
       "  </tbody>\n",
       "</table>\n",
       "</div>"
      ],
      "text/plain": [
       "       Industry         A_i         B_i         C_i  Final Demand Total Output\n",
       "0           A_i   23.799732   71.399195   35.699598    107.098793          220\n",
       "1           B_i   70.501553   79.314248   17.625388     96.939636          285\n",
       "2           C_i   46.579178   34.934383   11.644794     23.289589          110\n",
       "3     Value Add   61.227575  122.455150   40.818383      0.000000        225.0\n",
       "4  Total Output  202.108038  308.102976  105.788164    227.328018          0.0"
      ]
     },
     "execution_count": 9,
     "metadata": {},
     "output_type": "execute_result"
    }
   ],
   "source": [
    "new_total_df = new_total.to_frame().reset_index()\n",
    "\n",
    "new_total_df.columns = ['Industry', 'Total Output']\n",
    "\n",
    "df_new = pd.concat([df_new, new_total_df], axis=1)[df.columns]\n",
    "\n",
    "df_new['Industry'].loc[df_new['Industry'] == 'Final Demand'] = 'Value Add'\n",
    "\n",
    "df_new.head()"
   ]
  },
  {
   "cell_type": "markdown",
   "metadata": {},
   "source": [
    "### Retain Lists of Column & Row Names for Final DF Output"
   ]
  },
  {
   "cell_type": "code",
   "execution_count": 10,
   "metadata": {},
   "outputs": [
    {
     "data": {
      "text/plain": [
       "['A_i', 'B_i', 'C_i']"
      ]
     },
     "execution_count": 10,
     "metadata": {},
     "output_type": "execute_result"
    }
   ],
   "source": [
    "sector_columns = list(filter(lambda x: (x.endswith('_i')), df_new.columns)) \n",
    "\n",
    "sector_columns"
   ]
  },
  {
   "cell_type": "code",
   "execution_count": 11,
   "metadata": {},
   "outputs": [
    {
     "data": {
      "text/plain": [
       "0             A_i\n",
       "1             B_i\n",
       "2             C_i\n",
       "3       Value Add\n",
       "4    Total Output\n",
       "Name: Industry, dtype: object"
      ]
     },
     "execution_count": 11,
     "metadata": {},
     "output_type": "execute_result"
    }
   ],
   "source": [
    "industry_columns = df_new.iloc[:,0]\n",
    "\n",
    "industry_columns.head()"
   ]
  },
  {
   "cell_type": "code",
   "execution_count": 12,
   "metadata": {},
   "outputs": [
    {
     "data": {
      "text/html": [
       "<div>\n",
       "<style scoped>\n",
       "    .dataframe tbody tr th:only-of-type {\n",
       "        vertical-align: middle;\n",
       "    }\n",
       "\n",
       "    .dataframe tbody tr th {\n",
       "        vertical-align: top;\n",
       "    }\n",
       "\n",
       "    .dataframe thead th {\n",
       "        text-align: right;\n",
       "    }\n",
       "</style>\n",
       "<table border=\"1\" class=\"dataframe\">\n",
       "  <thead>\n",
       "    <tr style=\"text-align: right;\">\n",
       "      <th></th>\n",
       "      <th>A_i</th>\n",
       "      <th>B_i</th>\n",
       "      <th>C_i</th>\n",
       "      <th>Final Demand</th>\n",
       "    </tr>\n",
       "  </thead>\n",
       "  <tbody>\n",
       "    <tr>\n",
       "      <th>0</th>\n",
       "      <td>23.799732</td>\n",
       "      <td>71.399195</td>\n",
       "      <td>35.699598</td>\n",
       "      <td>107.098793</td>\n",
       "    </tr>\n",
       "    <tr>\n",
       "      <th>1</th>\n",
       "      <td>70.501553</td>\n",
       "      <td>79.314248</td>\n",
       "      <td>17.625388</td>\n",
       "      <td>96.939636</td>\n",
       "    </tr>\n",
       "    <tr>\n",
       "      <th>2</th>\n",
       "      <td>46.579178</td>\n",
       "      <td>34.934383</td>\n",
       "      <td>11.644794</td>\n",
       "      <td>23.289589</td>\n",
       "    </tr>\n",
       "    <tr>\n",
       "      <th>3</th>\n",
       "      <td>61.227575</td>\n",
       "      <td>122.455150</td>\n",
       "      <td>40.818383</td>\n",
       "      <td>0.000000</td>\n",
       "    </tr>\n",
       "    <tr>\n",
       "      <th>4</th>\n",
       "      <td>202.108038</td>\n",
       "      <td>308.102976</td>\n",
       "      <td>105.788164</td>\n",
       "      <td>227.328018</td>\n",
       "    </tr>\n",
       "  </tbody>\n",
       "</table>\n",
       "</div>"
      ],
      "text/plain": [
       "          A_i         B_i         C_i  Final Demand\n",
       "0   23.799732   71.399195   35.699598    107.098793\n",
       "1   70.501553   79.314248   17.625388     96.939636\n",
       "2   46.579178   34.934383   11.644794     23.289589\n",
       "3   61.227575  122.455150   40.818383      0.000000\n",
       "4  202.108038  308.102976  105.788164    227.328018"
      ]
     },
     "execution_count": 12,
     "metadata": {},
     "output_type": "execute_result"
    }
   ],
   "source": [
    "# Create initial Direct Requirements Matrix\n",
    "\n",
    "df_coefficients = df_new.iloc[:-1, 1:-1]\n",
    "\n",
    "cols = df_coefficients.columns\n",
    "\n",
    "coefficients_array = np.array(df_coefficients)\n",
    "\n",
    "df_coefficients.head()"
   ]
  },
  {
   "cell_type": "markdown",
   "metadata": {},
   "source": [
    "### Compile Technical Coefficients"
   ]
  },
  {
   "cell_type": "code",
   "execution_count": 13,
   "metadata": {},
   "outputs": [
    {
     "data": {
      "text/html": [
       "<div>\n",
       "<style scoped>\n",
       "    .dataframe tbody tr th:only-of-type {\n",
       "        vertical-align: middle;\n",
       "    }\n",
       "\n",
       "    .dataframe tbody tr th {\n",
       "        vertical-align: top;\n",
       "    }\n",
       "\n",
       "    .dataframe thead th {\n",
       "        text-align: right;\n",
       "    }\n",
       "</style>\n",
       "<table border=\"1\" class=\"dataframe\">\n",
       "  <thead>\n",
       "    <tr style=\"text-align: right;\">\n",
       "      <th></th>\n",
       "      <th>A_i</th>\n",
       "      <th>B_i</th>\n",
       "      <th>C_i</th>\n",
       "    </tr>\n",
       "  </thead>\n",
       "  <tbody>\n",
       "    <tr>\n",
       "      <th>0</th>\n",
       "      <td>0.108181</td>\n",
       "      <td>0.250523</td>\n",
       "      <td>0.324542</td>\n",
       "    </tr>\n",
       "    <tr>\n",
       "      <th>1</th>\n",
       "      <td>0.320462</td>\n",
       "      <td>0.278296</td>\n",
       "      <td>0.160231</td>\n",
       "    </tr>\n",
       "    <tr>\n",
       "      <th>2</th>\n",
       "      <td>0.211724</td>\n",
       "      <td>0.122577</td>\n",
       "      <td>0.105862</td>\n",
       "    </tr>\n",
       "  </tbody>\n",
       "</table>\n",
       "</div>"
      ],
      "text/plain": [
       "        A_i       B_i       C_i\n",
       "0  0.108181  0.250523  0.324542\n",
       "1  0.320462  0.278296  0.160231\n",
       "2  0.211724  0.122577  0.105862"
      ]
     },
     "execution_count": 13,
     "metadata": {},
     "output_type": "execute_result"
    }
   ],
   "source": [
    "df_sectors = df_new[df_new['Industry'].isin(sector_columns)][sector_columns]\n",
    "\n",
    "df_tc = df_sectors.div(new_total, axis=1)[sector_columns]\n",
    "\n",
    "tc_matrix = df_tc.to_numpy().astype(float)\n",
    "\n",
    "df_tc.head()"
   ]
  },
  {
   "cell_type": "markdown",
   "metadata": {},
   "source": [
    "### Create Identity Matrix"
   ]
  },
  {
   "cell_type": "code",
   "execution_count": 14,
   "metadata": {},
   "outputs": [
    {
     "data": {
      "text/plain": [
       "array([[1., 0., 0.],\n",
       "       [0., 1., 0.],\n",
       "       [0., 0., 1.]])"
      ]
     },
     "execution_count": 14,
     "metadata": {},
     "output_type": "execute_result"
    }
   ],
   "source": [
    "identity_matrix = np.identity(df_tc.shape[0])\n",
    "\n",
    "identity_matrix"
   ]
  },
  {
   "cell_type": "markdown",
   "metadata": {},
   "source": [
    "### Create I-A Matrix"
   ]
  },
  {
   "cell_type": "code",
   "execution_count": 15,
   "metadata": {},
   "outputs": [
    {
     "data": {
      "text/plain": [
       "array([[ 0.8918194 , -0.25052349, -0.3245418 ],\n",
       "       [-0.32046161,  0.72170439, -0.1602308 ],\n",
       "       [-0.21172353, -0.12257678,  0.89413823]])"
      ]
     },
     "execution_count": 15,
     "metadata": {},
     "output_type": "execute_result"
    }
   ],
   "source": [
    "i_a_matrix = np.subtract(identity_matrix, tc_matrix)\n",
    "\n",
    "i_a_matrix"
   ]
  },
  {
   "cell_type": "markdown",
   "metadata": {},
   "source": [
    "### Create I_A Matrix Inverse"
   ]
  },
  {
   "cell_type": "code",
   "execution_count": 16,
   "metadata": {},
   "outputs": [
    {
     "data": {
      "text/plain": [
       "array([[1.50632852, 0.63507879, 0.66055306],\n",
       "       [0.77153439, 1.75438974, 0.59442983],\n",
       "       [0.46245355, 0.39088875, 1.35629803]])"
      ]
     },
     "execution_count": 16,
     "metadata": {},
     "output_type": "execute_result"
    }
   ],
   "source": [
    "i_a_inverse_matrix = np.linalg.inv(i_a_matrix)\n",
    "\n",
    "i_a_inverse_matrix"
   ]
  },
  {
   "cell_type": "markdown",
   "metadata": {},
   "source": [
    "### Simulate Change in Final Demand"
   ]
  },
  {
   "cell_type": "code",
   "execution_count": 17,
   "metadata": {},
   "outputs": [
    {
     "data": {
      "text/plain": [
       "array([[248.76586495],\n",
       "       [289.74025163],\n",
       "       [120.99361401]])"
      ]
     },
     "execution_count": 17,
     "metadata": {},
     "output_type": "execute_result"
    }
   ],
   "source": [
    "# Note here new_final_demand differs from new_total\n",
    "# new_total is used for RAS rebalancing to updated the matrix to reflect new total output = sectoral output + final demand\n",
    "# new_final_demand meanwhile is used to represent change in aggregate demand and how that will impact economy overall due to industry linkages\n",
    "\n",
    "new_final_demand = np.array([[110],[110],[20]])\n",
    "\n",
    "new_total_output = np.matmul(i_a_inverse_matrix, new_final_demand)\n",
    "\n",
    "new_total_output"
   ]
  },
  {
   "cell_type": "markdown",
   "metadata": {},
   "source": [
    "### Update I-O Table to Reflect Increased Demand + Industry Effects"
   ]
  },
  {
   "cell_type": "code",
   "execution_count": 18,
   "metadata": {},
   "outputs": [
    {
     "data": {
      "text/html": [
       "<div>\n",
       "<style scoped>\n",
       "    .dataframe tbody tr th:only-of-type {\n",
       "        vertical-align: middle;\n",
       "    }\n",
       "\n",
       "    .dataframe tbody tr th {\n",
       "        vertical-align: top;\n",
       "    }\n",
       "\n",
       "    .dataframe thead th {\n",
       "        text-align: right;\n",
       "    }\n",
       "</style>\n",
       "<table border=\"1\" class=\"dataframe\">\n",
       "  <thead>\n",
       "    <tr style=\"text-align: right;\">\n",
       "      <th></th>\n",
       "      <th>Industry</th>\n",
       "      <th>A_i</th>\n",
       "      <th>B_i</th>\n",
       "      <th>C_i</th>\n",
       "      <th>Final Demand</th>\n",
       "      <th>Total Output</th>\n",
       "    </tr>\n",
       "  </thead>\n",
       "  <tbody>\n",
       "    <tr>\n",
       "      <th>0</th>\n",
       "      <td>A_i</td>\n",
       "      <td>23.799732</td>\n",
       "      <td>71.399195</td>\n",
       "      <td>35.699598</td>\n",
       "      <td>107.098793</td>\n",
       "      <td>220</td>\n",
       "    </tr>\n",
       "    <tr>\n",
       "      <th>1</th>\n",
       "      <td>B_i</td>\n",
       "      <td>70.501553</td>\n",
       "      <td>79.314248</td>\n",
       "      <td>17.625388</td>\n",
       "      <td>96.939636</td>\n",
       "      <td>285</td>\n",
       "    </tr>\n",
       "    <tr>\n",
       "      <th>2</th>\n",
       "      <td>C_i</td>\n",
       "      <td>46.579178</td>\n",
       "      <td>34.934383</td>\n",
       "      <td>11.644794</td>\n",
       "      <td>23.289589</td>\n",
       "      <td>110</td>\n",
       "    </tr>\n",
       "    <tr>\n",
       "      <th>3</th>\n",
       "      <td>Value Add</td>\n",
       "      <td>61.227575</td>\n",
       "      <td>122.455150</td>\n",
       "      <td>40.818383</td>\n",
       "      <td>0.000000</td>\n",
       "      <td>225.0</td>\n",
       "    </tr>\n",
       "    <tr>\n",
       "      <th>4</th>\n",
       "      <td>Total Output</td>\n",
       "      <td>202.108038</td>\n",
       "      <td>308.102976</td>\n",
       "      <td>105.788164</td>\n",
       "      <td>227.328018</td>\n",
       "      <td>0.0</td>\n",
       "    </tr>\n",
       "  </tbody>\n",
       "</table>\n",
       "</div>"
      ],
      "text/plain": [
       "       Industry         A_i         B_i         C_i  Final Demand Total Output\n",
       "0           A_i   23.799732   71.399195   35.699598    107.098793          220\n",
       "1           B_i   70.501553   79.314248   17.625388     96.939636          285\n",
       "2           C_i   46.579178   34.934383   11.644794     23.289589          110\n",
       "3     Value Add   61.227575  122.455150   40.818383      0.000000        225.0\n",
       "4  Total Output  202.108038  308.102976  105.788164    227.328018          0.0"
      ]
     },
     "execution_count": 18,
     "metadata": {},
     "output_type": "execute_result"
    }
   ],
   "source": [
    "df_new.head()"
   ]
  },
  {
   "cell_type": "code",
   "execution_count": 19,
   "metadata": {},
   "outputs": [
    {
     "data": {
      "text/plain": [
       "array([[0.1081806 , 0.25052349, 0.3245418 ],\n",
       "       [0.32046161, 0.27829561, 0.1602308 ],\n",
       "       [0.21172353, 0.12257678, 0.10586177],\n",
       "       [0.27830716, 0.42966719, 0.37107621]])"
      ]
     },
     "execution_count": 19,
     "metadata": {},
     "output_type": "execute_result"
    }
   ],
   "source": [
    "df_tc = df_new[df_new['Industry'].isin(['Value Add'] + sector_columns)][sector_columns].div(new_total, axis=1)[sector_columns]\n",
    "\n",
    "tc_array = df_tc.to_numpy().astype(float)\n",
    "\n",
    "tc_array"
   ]
  },
  {
   "cell_type": "code",
   "execution_count": 20,
   "metadata": {},
   "outputs": [
    {
     "name": "stdout",
     "output_type": "stream",
     "text": [
      "Sector output: 248.7658649541721\n",
      "Sector output: 289.7402516332426\n",
      "Sector output: 120.99361401313085\n"
     ]
    },
    {
     "data": {
      "text/plain": [
       "[[26.911640285610034, 62.321693292991654, 80.73492085683009],\n",
       " [92.85062657754158, 80.63343886997032, 46.42531328877079],\n",
       " [25.617195617828227, 14.831007989268976, 12.808597808914113]]"
      ]
     },
     "execution_count": 20,
     "metadata": {},
     "output_type": "execute_result"
    }
   ],
   "source": [
    "updated_sectoral_flows = []\n",
    "\n",
    "for i, output in enumerate(new_total_output):\n",
    "    print(f\"Sector output: {output[0]}\")\n",
    "    temp_array = []\n",
    "\n",
    "    for j in tc_matrix[i]:\n",
    "        temp_array.append(j * output[0])\n",
    "\n",
    "    updated_sectoral_flows.append(temp_array)\n",
    "\n",
    "updated_sectoral_flows"
   ]
  },
  {
   "cell_type": "markdown",
   "metadata": {},
   "source": [
    "### Rebuild Final DF To Match Initial Structure"
   ]
  },
  {
   "cell_type": "code",
   "execution_count": 21,
   "metadata": {},
   "outputs": [
    {
     "data": {
      "text/html": [
       "<div>\n",
       "<style scoped>\n",
       "    .dataframe tbody tr th:only-of-type {\n",
       "        vertical-align: middle;\n",
       "    }\n",
       "\n",
       "    .dataframe tbody tr th {\n",
       "        vertical-align: top;\n",
       "    }\n",
       "\n",
       "    .dataframe thead th {\n",
       "        text-align: right;\n",
       "    }\n",
       "</style>\n",
       "<table border=\"1\" class=\"dataframe\">\n",
       "  <thead>\n",
       "    <tr style=\"text-align: right;\">\n",
       "      <th></th>\n",
       "      <th>Industry</th>\n",
       "      <th>A_i</th>\n",
       "      <th>B_i</th>\n",
       "      <th>C_i</th>\n",
       "      <th>Final Demand</th>\n",
       "      <th>Total Output</th>\n",
       "    </tr>\n",
       "  </thead>\n",
       "  <tbody>\n",
       "    <tr>\n",
       "      <th>0</th>\n",
       "      <td>A_i</td>\n",
       "      <td>26.911640</td>\n",
       "      <td>62.321693</td>\n",
       "      <td>80.734921</td>\n",
       "      <td>110.0</td>\n",
       "      <td>279.968254</td>\n",
       "    </tr>\n",
       "    <tr>\n",
       "      <th>1</th>\n",
       "      <td>B_i</td>\n",
       "      <td>92.850627</td>\n",
       "      <td>80.633439</td>\n",
       "      <td>46.425313</td>\n",
       "      <td>110.0</td>\n",
       "      <td>329.909379</td>\n",
       "    </tr>\n",
       "    <tr>\n",
       "      <th>2</th>\n",
       "      <td>C_i</td>\n",
       "      <td>25.617196</td>\n",
       "      <td>14.831008</td>\n",
       "      <td>12.808598</td>\n",
       "      <td>20.0</td>\n",
       "      <td>73.256801</td>\n",
       "    </tr>\n",
       "    <tr>\n",
       "      <th>3</th>\n",
       "      <td>Value Add</td>\n",
       "      <td>145.379462</td>\n",
       "      <td>157.786140</td>\n",
       "      <td>139.968832</td>\n",
       "      <td>240.0</td>\n",
       "      <td>683.134435</td>\n",
       "    </tr>\n",
       "    <tr>\n",
       "      <th>5</th>\n",
       "      <td>NaN</td>\n",
       "      <td>290.758925</td>\n",
       "      <td>315.572280</td>\n",
       "      <td>279.937664</td>\n",
       "      <td>480.0</td>\n",
       "      <td>1366.268869</td>\n",
       "    </tr>\n",
       "  </tbody>\n",
       "</table>\n",
       "</div>"
      ],
      "text/plain": [
       "    Industry         A_i         B_i         C_i  Final Demand  Total Output\n",
       "0        A_i   26.911640   62.321693   80.734921         110.0    279.968254\n",
       "1        B_i   92.850627   80.633439   46.425313         110.0    329.909379\n",
       "2        C_i   25.617196   14.831008   12.808598          20.0     73.256801\n",
       "3  Value Add  145.379462  157.786140  139.968832         240.0    683.134435\n",
       "5        NaN  290.758925  315.572280  279.937664         480.0   1366.268869"
      ]
     },
     "execution_count": 21,
     "metadata": {},
     "output_type": "execute_result"
    }
   ],
   "source": [
    "df_final = pd.DataFrame(updated_sectoral_flows, columns=sector_columns)\n",
    "df_new_final_demand = pd.DataFrame(new_final_demand, columns=['Final Demand'])\n",
    "df_final = pd.concat([df_final, df_new_final_demand], axis=1)\n",
    "\n",
    "df_updated_column_totals = df_final.agg('sum').to_frame().T\n",
    "df_final = pd.concat([df_final, df_updated_column_totals], axis=0)\n",
    "\n",
    "df_final['Total Output'] = df_final.sum(axis=1)\n",
    "df_final = df_final.reset_index(drop=True).astype('float')\n",
    "\n",
    "df_final.loc[df_final.index.stop + 1] = df_final.agg('sum', axis=0)\n",
    "\n",
    "df_final['Industry'] = df_new['Industry']\n",
    "\n",
    "df_final = df_final[df.columns]\n",
    "\n",
    "df_final.head()"
   ]
  },
  {
   "cell_type": "code",
   "execution_count": null,
   "metadata": {},
   "outputs": [],
   "source": []
  }
 ],
 "metadata": {
  "kernelspec": {
   "display_name": "base",
   "language": "python",
   "name": "python3"
  },
  "language_info": {
   "codemirror_mode": {
    "name": "ipython",
    "version": 3
   },
   "file_extension": ".py",
   "mimetype": "text/x-python",
   "name": "python",
   "nbconvert_exporter": "python",
   "pygments_lexer": "ipython3",
   "version": "3.11.5"
  }
 },
 "nbformat": 4,
 "nbformat_minor": 2
}
